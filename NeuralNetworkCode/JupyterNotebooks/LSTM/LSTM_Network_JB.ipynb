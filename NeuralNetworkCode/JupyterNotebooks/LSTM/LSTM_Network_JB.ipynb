{
 "cells": [
  {
   "cell_type": "code",
   "execution_count": 6,
   "metadata": {},
   "outputs": [],
   "source": [
    "from keras.layers import Input, Dense, Activation, Dropout, LeakyReLU, Lambda, PReLU, LSTM, SimpleRNN\n",
    "from keras.models import Model, Sequential, model_from_json\n",
    "from keras.callbacks import EarlyStopping\n",
    "from keras import optimizers, activations, regularizers\n",
    "from keras import backend as K\n",
    "from sklearn.model_selection import train_test_split, KFold\n",
    "import scipy.io\n",
    "import numpy as np\n",
    "import matplotlib.pyplot as plt\n",
    "import pandas as pd\n",
    "import h5py\n",
    "import json"
   ]
  },
  {
   "cell_type": "code",
   "execution_count": 5,
   "metadata": {},
   "outputs": [
    {
     "name": "stdout",
     "output_type": "stream",
     "text": [
      "<KeysViewHDF5 ['D100', 'SWdataFull', 'U100', 'altitudes', 'densityDataLogVarROM100', 'densityDataMeanLog', 'latitudes', 'localSolarTimes']>\n",
      "    doy  UThrs    F10   F10B    S10   S10B   XM10  XM10B    Y10   Y10B  \\\n",
      "0  75.0   12.0  150.1  129.7  150.5  137.6  158.1  130.7  148.8  138.7   \n",
      "1  75.0   13.0  150.1  129.7  150.5  137.6  158.1  130.7  148.8  138.7   \n",
      "2  75.0   14.0  150.1  129.7  150.5  137.6  158.1  130.7  148.8  138.7   \n",
      "3  75.0   15.0  150.1  129.7  150.5  137.6  158.1  130.7  148.8  138.7   \n",
      "4  75.0   16.0  150.1  129.7  150.5  137.6  158.1  130.7  148.8  138.7   \n",
      "\n",
      "   DSTDTC     GWRAS    SUN(1)    SUN(2)  \n",
      "0    17.5  6.172181 -0.072585 -0.031433  \n",
      "1    38.5  0.151512 -0.071919 -0.031146  \n",
      "2    38.5  0.414028 -0.071254 -0.030859  \n",
      "3    38.5  0.676544 -0.070589 -0.030571  \n",
      "4    38.5  0.939060 -0.069923 -0.030284  \n"
     ]
    }
   ],
   "source": [
    "'''Import data'''\n",
    "\n",
    "# File path\n",
    "data = h5py.File('/Users/maggiezhang/Dropbox/AtmosphereMachineLearning/DensityData/JB2008_1999_2010_ROM_r100.mat', 'r')\n",
    "\n",
    "# Reduced-order density data\n",
    "print(data.keys())\n",
    "dens_data = data.get('densityDataLogVarROM100')\n",
    "dens_data = np.array(dens_data)\n",
    "\n",
    "# Space weather data\n",
    "sw_data = data.get('SWdataFull')\n",
    "sw_data = np.array(sw_data)\n",
    "sw_data = sw_data.transpose()\n",
    "sw_col_names = [\"doy\", \"UThrs\", \"F10\", \"F10B\", \"S10\", \"S10B\", \"XM10\", \"XM10B\", \"Y10\", \"Y10B\", \"DSTDTC\", \"GWRAS\", \"SUN(1)\", \"SUN(2)\"]\n",
    "df = pd.DataFrame(sw_data, columns = sw_col_names)\n",
    "print(df.head())\n",
    "\n",
    "# Only consider first 10 modes/dimensions of reduced data\n",
    "dens_data = dens_data[:,0:10]\n",
    "\n",
    "'''Training data'''\n",
    "# Training input\n",
    "\n",
    "split_15 = int(dens_data.shape[0]*0.85) # manual test split \n",
    "\n",
    "dens_data_train = dens_data[:split_15,:]\n",
    "sw_data_train = sw_data[:split_15,:]\n",
    "sw_data_train_append = sw_data[1:split_15+1,:] #looks at next sw timestep because it could be useful in prediction \n",
    "sw_data_train = np.concatenate((sw_data_train, sw_data_train_append), axis=1)\n",
    "x_train = np.concatenate((dens_data_train, sw_data_train), axis=1)\n",
    "y_train = dens_data[1:split_15+1,:]\n",
    "\n",
    "'''ROM LINEAR MATRICES''' \n",
    "Om = np.append(np.transpose(dens_data_train), np.transpose(sw_data_train), axis = 0)\n",
    "X2 = np.transpose(y_train)\n",
    "Phi = np.matmul(X2,np.linalg.pinv(Om))\n",
    "\n",
    "r = 10\n",
    "A = Phi[:r, :r]\n",
    "B = Phi[:r, r:]\n",
    "\n",
    "'''Test data'''\n",
    "# Test input\n",
    "dens_data_test = dens_data[split_15:-1,:]\n",
    "sw_data_test = sw_data[split_15:-1,:]\n",
    "sw_data_test_append = sw_data[split_15+1:,:]\n",
    "sw_data_test = np.concatenate((sw_data_test, sw_data_test_append), axis = 1)\n",
    "x_test = np.concatenate((dens_data_test, sw_data_test), axis=1)\n",
    "y_test = dens_data[split_15+1:,:]"
   ]
  },
  {
   "cell_type": "code",
   "execution_count": 4,
   "metadata": {},
   "outputs": [
    {
     "name": "stdout",
     "output_type": "stream",
     "text": [
      "(15510, 10)\n",
      "(87893, 10)\n",
      "(15510, 38)\n",
      "(87893, 38)\n"
     ]
    }
   ],
   "source": [
    "'''inputs: A 3D tensor with shape [batch, timesteps, feature]'''\n",
    "#10 features\n",
    "print(y_test.shape)\n",
    "print(y_train.shape)\n",
    "print(x_test.shape)\n",
    "print(x_train.shape)"
   ]
  },
  {
   "cell_type": "code",
   "execution_count": null,
   "metadata": {},
   "outputs": [],
   "source": [
    "model = Sequential()\n",
    "\n"
   ]
  }
 ],
 "metadata": {
  "kernelspec": {
   "display_name": "Python 3",
   "language": "python",
   "name": "python3"
  },
  "language_info": {
   "codemirror_mode": {
    "name": "ipython",
    "version": 3
   },
   "file_extension": ".py",
   "mimetype": "text/x-python",
   "name": "python",
   "nbconvert_exporter": "python",
   "pygments_lexer": "ipython3",
   "version": "3.7.4"
  }
 },
 "nbformat": 4,
 "nbformat_minor": 2
}
