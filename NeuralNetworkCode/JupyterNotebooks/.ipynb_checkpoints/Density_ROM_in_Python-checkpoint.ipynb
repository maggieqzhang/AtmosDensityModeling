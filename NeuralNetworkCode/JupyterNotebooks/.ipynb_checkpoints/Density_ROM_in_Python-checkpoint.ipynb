{
 "cells": [
  {
   "cell_type": "markdown",
   "metadata": {},
   "source": [
    "# Density ROM in Python"
   ]
  },
  {
   "cell_type": "code",
   "execution_count": 2,
   "metadata": {},
   "outputs": [],
   "source": [
    "\"\"\"\n",
    "Created on Sat Mar 28 20:03:33 2020\n",
    "ROM in Python \n",
    "@author: maggiezhang\n",
    "\"\"\"\n",
    "# imports necessary for program \n",
    "\n",
    "import numpy as np\n",
    "from scipy.io import loadmat \n",
    "import pandas as pd \n",
    "import matplotlib.pyplot as plt \n"
   ]
  },
  {
   "cell_type": "code",
   "execution_count": 3,
   "metadata": {},
   "outputs": [],
   "source": [
    "#%% code begins\n",
    "# Reduced dimension\n",
    "r = 10\n",
    "\n",
    "# Year of data\n",
    "year = 2000\n",
    "\n",
    "# Density data path\n",
    "datapath = \"/Users/maggiezhang/Dropbox/AtmosphereMachineLearning/DensityData\"\n",
    "\n",
    "localSolarTimes = np.linspace(0,24,24)\n",
    "latitudes = np.linspace(-87.5,87.5,20)\n",
    "altitudes = np.linspace(100,800,36)\n",
    "nofAlt = len(altitudes)\n",
    "nofLst = len(localSolarTimes)\n",
    "nofLat = len(latitudes)"
   ]
  },
  {
   "cell_type": "code",
   "execution_count": 6,
   "metadata": {},
   "outputs": [
    {
     "name": "stdout",
     "output_type": "stream",
     "text": [
      "[[4.08284769e-07 4.08137456e-07 4.08150080e-07 4.08162766e-07\n",
      "  4.08108626e-07]\n",
      " [4.08286924e-07 4.08139507e-07 4.08152132e-07 4.08164818e-07\n",
      "  4.08110636e-07]\n",
      " [4.08287708e-07 4.08140253e-07 4.08152879e-07 4.08165566e-07\n",
      "  4.08111368e-07]\n",
      " [4.08287787e-07 4.08140329e-07 4.08152954e-07 4.08165641e-07\n",
      "  4.08111442e-07]\n",
      " [4.08287487e-07 4.08140044e-07 4.08152669e-07 4.08165357e-07\n",
      "  4.08111163e-07]]\n",
      "        0      1      2      3      4      5      6      7      8      9     \\\n",
      "doy      1.0    1.0    1.0    1.0    1.0    1.0    1.0    1.0    1.0    1.0   \n",
      "UThrs    0.0    1.0    2.0    3.0    4.0    5.0    6.0    7.0    8.0    9.0   \n",
      "F10    135.6  135.6  135.6  135.6  135.6  135.6  135.6  135.6  135.6  135.6   \n",
      "F10B   166.4  166.4  166.4  166.4  166.4  166.4  166.4  166.4  166.4  166.4   \n",
      "S10    147.0  147.0  147.0  147.0  147.0  147.0  147.0  147.0  147.0  147.0   \n",
      "\n",
      "       ...   8774   8775   8776   8777   8778   8779   8780   8781   8782  \\\n",
      "doy    ...  366.0  366.0  366.0  366.0  366.0  366.0  366.0  366.0  366.0   \n",
      "UThrs  ...   14.0   15.0   16.0   17.0   18.0   19.0   20.0   21.0   22.0   \n",
      "F10    ...  182.1  182.1  182.1  182.1  182.1  182.1  182.1  182.1  182.1   \n",
      "F10B   ...  172.5  172.5  172.5  172.5  172.5  172.5  172.5  172.5  172.5   \n",
      "S10    ...  184.9  184.9  184.9  184.9  184.9  184.9  184.9  184.9  184.9   \n",
      "\n",
      "        8783  \n",
      "doy    366.0  \n",
      "UThrs   23.0  \n",
      "F10    182.1  \n",
      "F10B   172.5  \n",
      "S10    184.9  \n",
      "\n",
      "[5 rows x 8784 columns]\n",
      "(8784, 14)\n",
      "(17280, 8784)\n"
     ]
    }
   ],
   "source": [
    "# %% Processing Density Data \n",
    "densityDataFull = np.array([])\n",
    "SWdataFull = np.array([])\n",
    "\n",
    "datasource = 'JB2008'\n",
    "if datasource == 'JB2008':\n",
    "    denseData = loadmat(datapath+'/2000_JB2008_density.mat')\n",
    "    spacewData = loadmat(datapath+'/2000_JB2008_SW.mat')\n",
    "elif datasource == \"MSISE\":\n",
    "    pass # finish later on\n",
    "\n",
    "denseData = denseData['densityData']\n",
    "print(denseData[:5,:5])\n",
    "spacewData = spacewData['SWdata']\n",
    "df = pd.DataFrame(np.transpose(spacewData), ['doy', 'UThrs', 'F10', 'F10B', 'S10', 'S10B', 'XM10', 'XM10B', 'Y10', 'Y10B', 'DSTDTC', 'GWRAS', 'SUN(1)', 'SUN(2)'])\n",
    "print(df.head())\n",
    "print(spacewData.shape)\n",
    "print(denseData.shape)"
   ]
  },
  {
   "cell_type": "code",
   "execution_count": 7,
   "metadata": {},
   "outputs": [
    {
     "name": "stdout",
     "output_type": "stream",
     "text": [
      "[[ -6.25424643]\n",
      " [ -6.25424418]\n",
      " [ -6.25424338]\n",
      " ...\n",
      " [-13.42975098]\n",
      " [-13.43242936]\n",
      " [-13.43423873]]\n",
      "[-0.1347904  -0.13494712 -0.13493369 ... -0.13483547 -0.13468907\n",
      " -0.13467464]\n"
     ]
    }
   ],
   "source": [
    "# %%Proper Orthogonal Decomp\n",
    "#reduce the dimenion of density data \n",
    "densityDataMeanLog = np.log10(np.mean(denseData, axis = 1))\n",
    "densityDataMeanLog = np.reshape(densityDataMeanLog, (17280, 1))\n",
    "densityDataVarLog = np.log10(denseData) - densityDataMeanLog\n",
    "print(densityDataMeanLog)\n",
    "print(densityDataVarLog[0])"
   ]
  },
  {
   "cell_type": "code",
   "execution_count": 8,
   "metadata": {},
   "outputs": [
    {
     "name": "stdout",
     "output_type": "stream",
     "text": [
      "[ 0.00043272 -0.01301443  0.00539379 ...  0.          0.\n",
      "  0.        ]\n"
     ]
    }
   ],
   "source": [
    "# %%Singular Value Decomp \n",
    "u,d,v = np.linalg.svd(densityDataVarLog)\n",
    "print(u[0])\n"
   ]
  },
  {
   "cell_type": "code",
   "execution_count": 9,
   "metadata": {},
   "outputs": [
    {
     "name": "stdout",
     "output_type": "stream",
     "text": [
      "(10, 8784)\n",
      "[26.34354836 19.07466225 19.07950122 ... 11.47553681 17.21583568\n",
      " 17.21861349]\n"
     ]
    }
   ],
   "source": [
    "# %%Mapping density onto principal components to obtain reduced order \n",
    "densityDataLogVarROM = np.matmul(np.transpose(u[:,0:r]), densityDataVarLog)\n",
    "print(densityDataLogVarROM.shape)\n",
    "print(densityDataLogVarROM[0])\n"
   ]
  },
  {
   "cell_type": "code",
   "execution_count": 14,
   "metadata": {},
   "outputs": [
    {
     "name": "stdout",
     "output_type": "stream",
     "text": [
      "-80.07955152266089\n",
      "44.56890526056185\n",
      "43837\n",
      "(10, 8783)\n",
      "(10, 8783)\n",
      "(23, 8783)\n"
     ]
    }
   ],
   "source": [
    "#%% Dynamic Mode Decomp with control (DMD c)\n",
    "\n",
    "startIndex = 0\n",
    "\n",
    "X1 = densityDataLogVarROM[0:r, startIndex: -1]\n",
    "\n",
    "minval = 0\n",
    "maxval = 0\n",
    "num = 0\n",
    "for i in range(len(X1)):\n",
    "    for j in range(len(X1[0])):\n",
    "        if X1[i][j] < minval:\n",
    "            minval = X1[i][j]\n",
    "        if X1[i][j] > maxval:\n",
    "            maxval = X1[i][j]\n",
    "        if X1[i][j] <0:\n",
    "            num+=1\n",
    "print(minval)\n",
    "print(maxval)\n",
    "print(num)\n",
    "print(X1.shape)\n",
    "X2 = densityDataLogVarROM[0:r, startIndex+1:]\n",
    "print(X2.shape)\n",
    "\n",
    "if datasource == 'JB2008':\n",
    "    # standard space weather inputs for the linear model\n",
    "    U1 = np.transpose(spacewData[startIndex:-1,:])\n",
    "    #print(U1.shape)\n",
    "    # add next timesteps for better prediction\n",
    "    U1 = np.append(U1,np.transpose(spacewData[startIndex+1:,10:11]), axis = 0)\n",
    "    #print(U1[14:15, 0:5])\n",
    "    U1 = np.append(U1,np.transpose(spacewData[startIndex+1:,2:3]), axis = 0)\n",
    "    U1 = np.append(U1,np.transpose(spacewData[startIndex+1:,4:5]), axis = 0)\n",
    "    U1 = np.append(U1,np.transpose(spacewData[startIndex+1:,6:7]), axis = 0)\n",
    "    U1 = np.append(U1,np.transpose(spacewData[startIndex+1:,8:9]), axis = 0)\n",
    "    #adding mixed terms\n",
    "    #rand = np.matmul(np.transpose(spacewData[startIndex:-1,10:11]),np.transpose(spacewData[startIndex:-1,2:3]))\n",
    "    #print(rand.shape)\n",
    "    U1 = np.append(U1,(np.multiply(np.transpose(spacewData[startIndex:-1,10:11]),np.transpose(spacewData[startIndex:-1,2:3]))), axis = 0)\n",
    "    U1 = np.append(U1,(np.multiply(np.transpose(spacewData[startIndex+1:,10:11]),np.transpose(spacewData[startIndex+1:,2:3]))), axis = 0)\n",
    "    \n",
    "    #adding quadratic DSTDTC \n",
    "    U1 = np.append(U1,np.transpose(np.square((spacewData[startIndex:-1,10:11]))), axis = 0)\n",
    "    U1 = np.append(U1,np.transpose(np.square((spacewData[startIndex+1:,10:11]))), axis = 0)\n",
    "    print(U1.shape)\n",
    "\n",
    "elif datasource == \"MSISE\":\n",
    "    pass # finish later on"
   ]
  },
  {
   "cell_type": "code",
   "execution_count": 9,
   "metadata": {},
   "outputs": [
    {
     "name": "stdout",
     "output_type": "stream",
     "text": [
      "(10, 8783)\n",
      "(23, 8783)\n",
      "(33, 8783)\n",
      "(10, 8783) x2\n",
      "(10, 33)\n",
      "(10, 10)\n",
      "(10, 23)\n"
     ]
    },
    {
     "name": "stderr",
     "output_type": "stream",
     "text": [
      "/Users/maggiezhang/opt/anaconda3/lib/python3.7/site-packages/numpy/core/_asarray.py:85: ComplexWarning: Casting complex values to real discards the imaginary part\n",
      "  return array(a, dtype, copy=False, order=order)\n"
     ]
    },
    {
     "data": {
      "text/plain": [
       "<matplotlib.collections.PathCollection at 0x120b11850>"
      ]
     },
     "execution_count": 9,
     "metadata": {},
     "output_type": "execute_result"
    },
    {
     "data": {
      "image/png": "[encoded data removed]",
      "text/plain": [
       "<Figure size 432x288 with 1 Axes>"
      ]
     },
     "metadata": {
      "needs_background": "light"
     },
     "output_type": "display_data"
    },
    {
     "data": {
      "image/png": "[encoded data removed]",
      "text/plain": [
       "<Figure size 432x288 with 1 Axes>"
      ]
     },
     "metadata": {
      "needs_background": "light"
     },
     "output_type": "display_data"
    }
   ],
   "source": [
    "#%% Linear Dynamical Model\n",
    "#X2 = A*X1 + B*U1\n",
    "#X2 = [A B]*[X1;U1]\n",
    "#X2 = Phi*Om, where Phi=[A B] and Om=[X1;U1]\n",
    "Om = np.append(X1, U1, axis = 0)\n",
    "print(X1.shape)\n",
    "print(U1.shape)\n",
    "print(Om.shape)\n",
    "print(X2.shape, \"x2\")\n",
    "# Compute dynamic matrices:\n",
    "# Phi = X2*pinv(Om)\n",
    "Phi = np.matmul(X2,np.linalg.pinv(Om))\n",
    "print(Phi.shape)\n",
    "A = Phi[:r, :r]\n",
    "print(A.shape)\n",
    "B = Phi[:r, r:]\n",
    "print(B.shape)\n",
    "\n",
    "a,b = np.linalg.eig(A)\n",
    "plt.figure()\n",
    "plt.plot(a)\n",
    "\n",
    "plt.figure()\n",
    "plt.scatter(np.real(np.diagonal(b)),np.imag(np.diagonal(b)))\n"
   ]
  },
  {
   "cell_type": "code",
   "execution_count": 10,
   "metadata": {},
   "outputs": [
    {
     "name": "stdout",
     "output_type": "stream",
     "text": [
      "(10, 10)\n",
      "(10, 8783)\n",
      "(10, 23)\n",
      "(23, 8783)\n",
      "(10, 8783) xfullpred\n",
      "[0.07860087 0.05975295 0.02202399 0.01114433 0.00914694 0.022638\n",
      " 0.01945343 0.01248644 0.0051234  0.00637508]\n"
     ]
    }
   ],
   "source": [
    "#%% Check avg accuracy of 1 prediction step\n",
    "print(A.shape)\n",
    "print(X1.shape)\n",
    "print(B.shape)\n",
    "print(U1.shape)\n",
    "XfullPred = np.matmul(A,X1) + np.matmul(B,U1)\n",
    "print(XfullPred.shape, \"xfullpred\")\n",
    "errFullPred = abs(XfullPred-X2)\n",
    "\n",
    "print(np.mean(np.transpose(errFullPred), axis = 0))"
   ]
  },
  {
   "cell_type": "code",
   "execution_count": 12,
   "metadata": {},
   "outputs": [
    {
     "name": "stdout",
     "output_type": "stream",
     "text": [
      "(23, 241)\n",
      "(10, 1)\n",
      "(10, 241) xpred shape\n",
      "        0         1         2         3         4         5         6    \\\n",
      "0  1.066298  1.044960  1.024180 -1.226791 -1.246778 -1.266273  0.950476   \n",
      "1  6.067867  6.052582  6.038375  5.936549  5.923587  5.911587  5.989851   \n",
      "2 -0.518561 -0.521581 -0.524306 -0.444767 -0.447005 -0.448980 -0.532206   \n",
      "3  0.083819  0.083980  0.084066  0.227697  0.227731  0.227702  0.083241   \n",
      "4  1.338552  1.339431  1.340196  1.367019  1.367623  1.368125  1.343167   \n",
      "\n",
      "        7         8         9    ...        231        232        233  \\\n",
      "0  0.936926  0.923532 -8.694676  ...  27.627353  27.614588  29.411786   \n",
      "1  5.980998  5.972839  5.587680  ...   5.737918   5.735353   5.789960   \n",
      "2 -0.533219 -0.534078 -0.163679  ...  -0.614735  -0.616689  -0.639507   \n",
      "3  0.082299  0.081349  0.682838  ...  -0.485411  -0.485902  -0.533280   \n",
      "4  1.344253  1.345273  1.454300  ...   1.123871   1.123544   1.089716   \n",
      "\n",
      "         234        235        236        237        238        239        240  \n",
      "0  24.503040  24.492394  24.481901  27.633268  27.614223  27.595683  31.046670  \n",
      "1   5.557852   5.555462   5.553438   5.686307   5.671921   5.658548   5.810736  \n",
      "2  -0.544722  -0.545690  -0.546526  -0.614729  -0.619665  -0.624293  -0.693458  \n",
      "3  -0.199688  -0.200193  -0.200690  -0.415744  -0.415477  -0.415269  -0.654807  \n",
      "4   1.160423   1.159920   1.159379   1.113360   1.113071   1.112682   1.060880  \n",
      "\n",
      "[5 rows x 241 columns]\n",
      "(17280, 241)\n",
      "[[4.50245757e-07 4.50339061e-07 4.50430860e-07 4.50229549e-07\n",
      "  4.50320199e-07]\n",
      " [4.50248551e-07 4.50341855e-07 4.50433655e-07 4.50232302e-07\n",
      "  4.50322953e-07]\n",
      " [4.50249674e-07 4.50342979e-07 4.50434779e-07 4.50233411e-07\n",
      "  4.50324062e-07]\n",
      " [4.50249835e-07 4.50343140e-07 4.50434940e-07 4.50233571e-07\n",
      "  4.50324222e-07]\n",
      " [4.50249641e-07 4.50342946e-07 4.50434745e-07 4.50233383e-07\n",
      "  4.50324034e-07]]\n",
      "[[4.08284769e-07 4.08137456e-07 4.08150080e-07 4.08162766e-07\n",
      "  4.08108626e-07]\n",
      " [4.08286924e-07 4.08139507e-07 4.08152132e-07 4.08164818e-07\n",
      "  4.08110636e-07]\n",
      " [4.08287708e-07 4.08140253e-07 4.08152879e-07 4.08165566e-07\n",
      "  4.08111368e-07]\n",
      " [4.08287787e-07 4.08140329e-07 4.08152954e-07 4.08165641e-07\n",
      "  4.08111442e-07]\n",
      " [4.08287487e-07 4.08140044e-07 4.08152669e-07 4.08165357e-07\n",
      "  4.08111163e-07]]\n",
      "(17280, 241) diff dense\n",
      "5.9806019888478295\n"
     ]
    }
   ],
   "source": [
    "#%% Predict the density of all timesteps \n",
    "\n",
    "startPred = 980\n",
    "nofSteps = 10*24\n",
    "Upred = U1[:,startPred - 1: startPred+nofSteps]\n",
    "print(Upred.shape)\n",
    "Xpred = X1[:, startPred-1:startPred]\n",
    "print(Xpred.shape)\n",
    "for i in range(nofSteps):\n",
    "    Xpred = np.append(Xpred, np.matmul(A,Xpred[:,i:i+1]) + np.matmul(B, Upred[:,i:i+1]),axis = 1)\n",
    "print(Xpred.shape, \"xpred shape\")\n",
    "newdf = pd.DataFrame(Xpred)\n",
    "print(newdf.head())\n",
    "#print(Xpred.shape)\n",
    "densityVarRomPred= np.matmul(u[:,:r], Xpred)\n",
    "#print(densityVarRomPred[:5,:5])\n",
    "\n",
    "matrixof10 = np.full((17280, 241), 10)\n",
    "print((densityVarRomPred+densityDataMeanLog).shape)\n",
    "densityRomPred = np.power(matrixof10,(densityVarRomPred+densityDataMeanLog))\n",
    "print(densityRomPred[:5,:5])\n",
    "print(denseData[:5,:5])\n",
    "\n",
    "#densityRomPred\n",
    "#print(densityRomPred[:5,:5])\n",
    "\n",
    "densityRomCorrect = denseData[:, startPred-1: startPred+nofSteps]\n",
    "diffDens = abs(densityRomCorrect-densityRomPred)/densityRomCorrect*100\n",
    "print(diffDens.shape, \"diff dense\")\n",
    "mse = 0\n",
    "for i in range(len(diffDens)):\n",
    "    for j in range(len(diffDens[0])):\n",
    "        mse += diffDens[i][j]**2\n",
    "mse = mse/(diffDens.shape[0]*diffDens.shape[1])\n",
    "print(mse)\n",
    "#print(diffDense[0])"
   ]
  },
  {
   "cell_type": "code",
   "execution_count": null,
   "metadata": {},
   "outputs": [],
   "source": []
  }
 ],
 "metadata": {
  "kernelspec": {
   "display_name": "Python 3",
   "language": "python",
   "name": "python3"
  },
  "language_info": {
   "codemirror_mode": {
    "name": "ipython",
    "version": 3
   },
   "file_extension": ".py",
   "mimetype": "text/x-python",
   "name": "python",
   "nbconvert_exporter": "python",
   "pygments_lexer": "ipython3",
   "version": "3.7.4"
  }
 },
 "nbformat": 4,
 "nbformat_minor": 2
}
