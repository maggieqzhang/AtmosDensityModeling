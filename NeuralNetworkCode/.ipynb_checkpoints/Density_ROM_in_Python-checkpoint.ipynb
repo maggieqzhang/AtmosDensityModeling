{
 "cells": [
  {
   "cell_type": "markdown",
   "metadata": {},
   "source": [
    "# Density ROM in Python"
   ]
  },
  {
   "cell_type": "code",
   "execution_count": 2,
   "metadata": {},
   "outputs": [],
   "source": [
    "\"\"\"\n",
    "Created on Sat Mar 28 20:03:33 2020\n",
    "ROM in Python \n",
    "@author: maggiezhang\n",
    "\"\"\"\n",
    "# imports necessary for program \n",
    "\n",
    "import numpy as np\n",
    "from scipy.io import loadmat \n",
    "import pandas as pd \n",
    "import matplotlib.pyplot as plt \n"
   ]
  },
  {
   "cell_type": "code",
   "execution_count": 3,
   "metadata": {},
   "outputs": [],
   "source": [
    "#%% code begins\n",
    "# Reduced dimension\n",
    "r = 10\n",
    "\n",
    "# Year of data\n",
    "year = 2000\n",
    "\n",
    "# Density data path\n",
    "datapath = \"/Users/maggiezhang/Dropbox/AtmosphereMachineLearning/DensityData\"\n",
    "\n",
    "localSolarTimes = np.linspace(0,24,24)\n",
    "latitudes = np.linspace(-87.5,87.5,20)\n",
    "altitudes = np.linspace(100,800,36)\n",
    "nofAlt = len(altitudes)\n",
    "nofLst = len(localSolarTimes)\n",
    "nofLat = len(latitudes)"
   ]
  },
  {
   "cell_type": "code",
   "execution_count": 4,
   "metadata": {},
   "outputs": [
    {
     "name": "stdout",
     "output_type": "stream",
     "text": [
      "[[4.08284769e-07 4.08137456e-07 4.08150080e-07 4.08162766e-07\n",
      "  4.08108626e-07]\n",
      " [4.08286924e-07 4.08139507e-07 4.08152132e-07 4.08164818e-07\n",
      "  4.08110636e-07]\n",
      " [4.08287708e-07 4.08140253e-07 4.08152879e-07 4.08165566e-07\n",
      "  4.08111368e-07]\n",
      " [4.08287787e-07 4.08140329e-07 4.08152954e-07 4.08165641e-07\n",
      "  4.08111442e-07]\n",
      " [4.08287487e-07 4.08140044e-07 4.08152669e-07 4.08165357e-07\n",
      "  4.08111163e-07]]\n",
      "        0      1      2      3      4      5      6      7      8      9     \\\n",
      "doy      1.0    1.0    1.0    1.0    1.0    1.0    1.0    1.0    1.0    1.0   \n",
      "UThrs    0.0    1.0    2.0    3.0    4.0    5.0    6.0    7.0    8.0    9.0   \n",
      "F10    135.6  135.6  135.6  135.6  135.6  135.6  135.6  135.6  135.6  135.6   \n",
      "F10B   166.4  166.4  166.4  166.4  166.4  166.4  166.4  166.4  166.4  166.4   \n",
      "S10    147.0  147.0  147.0  147.0  147.0  147.0  147.0  147.0  147.0  147.0   \n",
      "\n",
      "       ...   8774   8775   8776   8777   8778   8779   8780   8781   8782  \\\n",
      "doy    ...  366.0  366.0  366.0  366.0  366.0  366.0  366.0  366.0  366.0   \n",
      "UThrs  ...   14.0   15.0   16.0   17.0   18.0   19.0   20.0   21.0   22.0   \n",
      "F10    ...  182.1  182.1  182.1  182.1  182.1  182.1  182.1  182.1  182.1   \n",
      "F10B   ...  172.5  172.5  172.5  172.5  172.5  172.5  172.5  172.5  172.5   \n",
      "S10    ...  184.9  184.9  184.9  184.9  184.9  184.9  184.9  184.9  184.9   \n",
      "\n",
      "        8783  \n",
      "doy    366.0  \n",
      "UThrs   23.0  \n",
      "F10    182.1  \n",
      "F10B   172.5  \n",
      "S10    184.9  \n",
      "\n",
      "[5 rows x 8784 columns]\n",
      "(8784, 14)\n",
      "(17280, 8784)\n"
     ]
    }
   ],
   "source": [
    "# %% Processing Density Data \n",
    "densityDataFull = np.array([])\n",
    "SWdataFull = np.array([])\n",
    "\n",
    "datasource = 'JB2008'\n",
    "if datasource == 'JB2008':\n",
    "    denseData = loadmat(datapath+'/2000_JB2008_density.mat')\n",
    "    spacewData = loadmat(datapath+'/2000_JB2008_SW.mat')\n",
    "elif datasource == \"MSISE\":\n",
    "    pass # finish later on\n",
    "\n",
    "denseData = denseData['densityData']\n",
    "print(denseData[:5,:5])\n",
    "spacewData = spacewData['SWdata']\n",
    "df = pd.DataFrame(np.transpose(spacewData), ['doy', 'UThrs', 'F10', 'F10B', 'S10', 'S10B', 'XM10', 'XM10B', 'Y10', 'Y10B', 'DSTDTC', 'GWRAS', 'SUN(1)', 'SUN(2)'])\n",
    "print(df.head())\n",
    "print(spacewData.shape)\n",
    "print(denseData.shape)"
   ]
  },
  {
   "cell_type": "code",
   "execution_count": 5,
   "metadata": {},
   "outputs": [
    {
     "name": "stdout",
     "output_type": "stream",
     "text": [
      "[[ -6.25424643]\n",
      " [ -6.25424418]\n",
      " [ -6.25424338]\n",
      " ...\n",
      " [-13.42975098]\n",
      " [-13.43242936]\n",
      " [-13.43423873]]\n",
      "[-0.1347904  -0.13494712 -0.13493369 ... -0.13483547 -0.13468907\n",
      " -0.13467464]\n"
     ]
    }
   ],
   "source": [
    "# %%Proper Orthogonal Decomp\n",
    "#reduce the dimenion of density data \n",
    "densityDataMeanLog = np.log10(np.mean(denseData, axis = 1))\n",
    "densityDataMeanLog = np.reshape(densityDataMeanLog, (17280, 1))\n",
    "densityDataVarLog = np.log10(denseData) - densityDataMeanLog\n",
    "print(densityDataMeanLog)\n",
    "print(densityDataVarLog[0])"
   ]
  },
  {
   "cell_type": "code",
   "execution_count": null,
   "metadata": {},
   "outputs": [],
   "source": [
    "# %%Singular Value Decomp \n",
    "u,d,v = np.linalg.svd(densityDataVarLog)\n",
    "print(u[0])\n"
   ]
  },
  {
   "cell_type": "code",
   "execution_count": null,
   "metadata": {},
   "outputs": [],
   "source": [
    "# %%Mapping density onto principal components to obtain reduced order \n",
    "densityDataLogVarROM = np.matmul(np.transpose(u[:,0:r]), densityDataVarLog)\n",
    "print(densityDataLogVarROM.shape)\n",
    "print(densityDataLogVarROM[0])\n"
   ]
  },
  {
   "cell_type": "code",
   "execution_count": null,
   "metadata": {},
   "outputs": [],
   "source": [
    "#%% Dynamic Mode Decomp with control (DMD c)\n",
    "\n",
    "startIndex = 0\n",
    "\n",
    "X1 = densityDataLogVarROM[0:r, startIndex: -1]\n",
    "print(X1.shape)\n",
    "X2 = densityDataLogVarROM[0:r, startIndex+1:]\n",
    "print(X2.shape)\n",
    "\n",
    "if datasource == 'JB2008':\n",
    "    # standard space weather inputs for the linear model\n",
    "    U1 = np.transpose(spacewData[startIndex:-1,:])\n",
    "    #print(U1.shape)\n",
    "    # add next timesteps for better prediction\n",
    "    U1 = np.append(U1,np.transpose(spacewData[startIndex+1:,10:11]), axis = 0)\n",
    "    #print(U1[14:15, 0:5])\n",
    "    U1 = np.append(U1,np.transpose(spacewData[startIndex+1:,2:3]), axis = 0)\n",
    "    U1 = np.append(U1,np.transpose(spacewData[startIndex+1:,4:5]), axis = 0)\n",
    "    U1 = np.append(U1,np.transpose(spacewData[startIndex+1:,6:7]), axis = 0)\n",
    "    U1 = np.append(U1,np.transpose(spacewData[startIndex+1:,8:9]), axis = 0)\n",
    "    #adding mixed terms\n",
    "    #rand = np.matmul(np.transpose(spacewData[startIndex:-1,10:11]),np.transpose(spacewData[startIndex:-1,2:3]))\n",
    "    #print(rand.shape)\n",
    "    U1 = np.append(U1,(np.multiply(np.transpose(spacewData[startIndex:-1,10:11]),np.transpose(spacewData[startIndex:-1,2:3]))), axis = 0)\n",
    "    U1 = np.append(U1,(np.multiply(np.transpose(spacewData[startIndex+1:,10:11]),np.transpose(spacewData[startIndex+1:,2:3]))), axis = 0)\n",
    "    \n",
    "    #adding quadratic DSTDTC \n",
    "    U1 = np.append(U1,np.transpose(np.square((spacewData[startIndex:-1,10:11]))), axis = 0)\n",
    "    U1 = np.append(U1,np.transpose(np.square((spacewData[startIndex+1:,10:11]))), axis = 0)\n",
    "    print(U1.shape)\n",
    "\n",
    "elif datasource == \"MSISE\":\n",
    "    pass # finish later on"
   ]
  },
  {
   "cell_type": "code",
   "execution_count": null,
   "metadata": {},
   "outputs": [],
   "source": [
    "#%% Linear Dynamical Model\n",
    "#X2 = A*X1 + B*U1\n",
    "#X2 = [A B]*[X1;U1]\n",
    "#X2 = Phi*Om, where Phi=[A B] and Om=[X1;U1]\n",
    "Om = np.append(X1, U1, axis = 0)\n",
    "print(X1.shape)\n",
    "print(U1.shape)\n",
    "print(Om.shape)\n",
    "print(X2.shape, \"x2\")\n",
    "# Compute dynamic matrices:\n",
    "# Phi = X2*pinv(Om)\n",
    "Phi = np.matmul(X2,np.linalg.pinv(Om))\n",
    "print(Phi.shape)\n",
    "A = Phi[:r, :r]\n",
    "print(A.shape)\n",
    "B = Phi[:r, r:]\n",
    "print(B.shape)\n",
    "\n",
    "a,b = np.linalg.eig(A)\n",
    "plt.figure()\n",
    "plt.plot(a)\n",
    "\n",
    "plt.figure()\n",
    "plt.scatter(np.real(np.diagonal(b)),np.imag(np.diagonal(b)))\n"
   ]
  },
  {
   "cell_type": "code",
   "execution_count": null,
   "metadata": {},
   "outputs": [],
   "source": [
    "#%% Check avg accuracy of 1 prediction step\n",
    "print(A.shape)\n",
    "print(X1.shape)\n",
    "print(B.shape)\n",
    "print(U1.shape)\n",
    "XfullPred = np.matmul(A,X1) + np.matmul(B,U1)\n",
    "print(XfullPred.shape, \"xfullpred\")\n",
    "errFullPred = abs(XfullPred-X2)\n",
    "\n",
    "print(np.mean(np.transpose(errFullPred), axis = 0))"
   ]
  },
  {
   "cell_type": "code",
   "execution_count": null,
   "metadata": {},
   "outputs": [],
   "source": [
    "#%% Predict the density of all timesteps \n",
    "\n",
    "startPred = 980\n",
    "nofSteps = 10*24\n",
    "Upred = U1[:,startPred - 1: startPred+nofSteps]\n",
    "#print(Upred.shape)\n",
    "Xpred = X1[:, startPred-1:startPred]\n",
    "print(Xpred.shape)\n",
    "for i in range(nofSteps):\n",
    "    Xpred = np.append(Xpred, np.matmul(A,Xpred[:,i:i+1]) + np.matmul(B, Upred[:,i:i+1]),axis = 1)\n",
    "print(Xpred.shape, \"xpred shape\")\n",
    "newdf = pd.DataFrame(Xpred)\n",
    "print(newdf.head())\n",
    "#print(Xpred.shape)\n",
    "densityVarRomPred= np.matmul(u[:,:r], Xpred)\n",
    "#print(densityVarRomPred[:5,:5])\n",
    "\n",
    "matrixof10 = np.full((17280, 241), 10)\n",
    "print((densityVarRomPred+densityDataMeanLog).shape)\n",
    "densityRomPred = np.power(matrixof10,(densityVarRomPred+densityDataMeanLog))\n",
    "print(densityRomPred[:5,:5])\n",
    "print(denseData[:5,:5])\n",
    "\n",
    "#densityRomPred\n",
    "#print(densityRomPred[:5,:5])\n",
    "\n",
    "densityRomCorrect = denseData[:, startPred-1: startPred+nofSteps]\n",
    "diffDens = abs(densityRomCorrect-densityRomPred)/densityRomCorrect*100\n",
    "print(diffDens.shape, \"diff dense\")\n",
    "mse = 0\n",
    "for i in range(len(diffDens)):\n",
    "    for j in range(len(diffDens[0])):\n",
    "        mse += diffDens[i][j]**2\n",
    "mse = mse/(diffDens.shape[0]*diffDens.shape[1])\n",
    "print(mse)\n",
    "#print(diffDense[0])"
   ]
  },
  {
   "cell_type": "code",
   "execution_count": null,
   "metadata": {},
   "outputs": [],
   "source": []
  }
 ],
 "metadata": {
  "kernelspec": {
   "display_name": "Python 3",
   "language": "python",
   "name": "python3"
  },
  "language_info": {
   "codemirror_mode": {
    "name": "ipython",
    "version": 3
   },
   "file_extension": ".py",
   "mimetype": "text/x-python",
   "name": "python",
   "nbconvert_exporter": "python",
   "pygments_lexer": "ipython3",
   "version": "3.7.4"
  }
 },
 "nbformat": 4,
 "nbformat_minor": 2
}
